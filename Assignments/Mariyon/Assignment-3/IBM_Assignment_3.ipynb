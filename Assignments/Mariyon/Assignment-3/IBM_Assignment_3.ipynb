{
  "nbformat": 4,
  "nbformat_minor": 0,
  "metadata": {
    "colab": {
      "provenance": []
    },
    "kernelspec": {
      "name": "python3",
      "display_name": "Python 3"
    },
    "language_info": {
      "name": "python"
    }
  },
  "cells": [
    {
      "cell_type": "markdown",
      "source": [
        "**EXERCISE**\n",
        "\n",
        "Answer the questions or complete the tasks outlined in bold below, use the specific method described if applicable.\n",
        "\n",
        "   What is 7 to the power of 4?"
      ],
      "metadata": {
        "id": "-X5eKp5AzhcV"
      }
    },
    {
      "cell_type": "code",
      "execution_count": 1,
      "metadata": {
        "colab": {
          "base_uri": "https://localhost:8080/"
        },
        "id": "j7P1kPmUzXjm",
        "outputId": "2fbd8b0e-0d5c-42bb-968a-7a942d67341c"
      },
      "outputs": [
        {
          "output_type": "execute_result",
          "data": {
            "text/plain": [
              "2401"
            ]
          },
          "metadata": {},
          "execution_count": 1
        }
      ],
      "source": [
        "7**4"
      ]
    },
    {
      "cell_type": "markdown",
      "source": [
        "Split this string:\n",
        "    \n",
        "    str = \"Hi there Sam!\""
      ],
      "metadata": {
        "id": "lDVRHG20zf-q"
      }
    },
    {
      "cell_type": "code",
      "source": [
        "str = \"Hi there Sam!\"\n",
        "str.split()"
      ],
      "metadata": {
        "colab": {
          "base_uri": "https://localhost:8080/"
        },
        "id": "zeGfzGZ50Dqb",
        "outputId": "7e1065b9-c99e-4874-dc14-6199fb6f909e"
      },
      "execution_count": 3,
      "outputs": [
        {
          "output_type": "execute_result",
          "data": {
            "text/plain": [
              "['Hi', 'there', 'Sam!']"
            ]
          },
          "metadata": {},
          "execution_count": 3
        }
      ]
    },
    {
      "cell_type": "markdown",
      "source": [],
      "metadata": {
        "id": "qU8zRBPM09xX"
      }
    },
    {
      "cell_type": "markdown",
      "source": [
        "Given the variables:\n",
        "\n",
        "      planet = \"Earth\"\n",
        "      diameter = 12742\n",
        "\n",
        "** Use .format() to print the following string: **\n",
        "\n",
        "    \n",
        "    The diameter of Earth is 12742 kilometers."
      ],
      "metadata": {
        "id": "e5zaabgz0g_Y"
      }
    },
    {
      "cell_type": "code",
      "source": [
        "planet = \"Earth\"\n",
        "diameter = 12742\n",
        "str=\"The diameter of {} is {} kilometers.\"\n",
        "print(str.format(planet,diameter))"
      ],
      "metadata": {
        "colab": {
          "base_uri": "https://localhost:8080/"
        },
        "id": "HIr_aYO-0oRV",
        "outputId": "5b9dd7e6-9248-404a-daf2-074a8be78310"
      },
      "execution_count": 4,
      "outputs": [
        {
          "output_type": "stream",
          "name": "stdout",
          "text": [
            "The diameter of Earth is 12742 kilometers.\n"
          ]
        }
      ]
    },
    {
      "cell_type": "markdown",
      "source": [
        "Given this nested list, use indexing to grab the word \"hello\"\n"
      ],
      "metadata": {
        "id": "ZVbA_7AI1DOw"
      }
    },
    {
      "cell_type": "code",
      "source": [
        "lst = [1,2,[3,4],[5,[100,200,['hello']],23,11],1,7]\n",
        "lst[3][1][2]"
      ],
      "metadata": {
        "colab": {
          "base_uri": "https://localhost:8080/"
        },
        "id": "tcIiqLsK1J1x",
        "outputId": "05896dd0-544f-4f2c-fe6a-02b1173f5ba9"
      },
      "execution_count": 5,
      "outputs": [
        {
          "output_type": "execute_result",
          "data": {
            "text/plain": [
              "['hello']"
            ]
          },
          "metadata": {},
          "execution_count": 5
        }
      ]
    },
    {
      "cell_type": "markdown",
      "source": [
        "Given this nest dictionary grab the word \"hello\". Be prepared, this will be annoying/tricky"
      ],
      "metadata": {
        "id": "ZIk0O_we1UUh"
      }
    },
    {
      "cell_type": "code",
      "source": [
        "nestdictionary = {'k1':[1,2,3,{'tricky':['oh','man','inception',{'target':[1,2,3,'hello']}]}]}\n",
        "nestdictionary['k1'][3]['tricky'][3]['target'][3]"
      ],
      "metadata": {
        "colab": {
          "base_uri": "https://localhost:8080/",
          "height": 35
        },
        "id": "ZnFKzkS_1ZRw",
        "outputId": "eb724e90-e4d2-4a09-a421-4fa5c8ccb0fa"
      },
      "execution_count": 6,
      "outputs": [
        {
          "output_type": "execute_result",
          "data": {
            "text/plain": [
              "'hello'"
            ],
            "application/vnd.google.colaboratory.intrinsic+json": {
              "type": "string"
            }
          },
          "metadata": {},
          "execution_count": 6
        }
      ]
    },
    {
      "cell_type": "markdown",
      "source": [
        "\n",
        " What is the main difference between a tuple and a list? \n"
      ],
      "metadata": {
        "id": "XZVtul8a1l8s"
      }
    },
    {
      "cell_type": "markdown",
      "source": [
        "**`The primary difference between tuples and lists is that tuples are immutable as opposed to lists which are mutable.`**"
      ],
      "metadata": {
        "id": "DHYQQbPq2FKP"
      }
    },
    {
      "cell_type": "markdown",
      "source": [
        " Create a function that grabs the email website domain from a string in the form: \n",
        "\n",
        "\n",
        "user@domain.com\n",
        "\n",
        "So for example, passing \"user@domain.com\" would return: domain.com"
      ],
      "metadata": {
        "id": "zzm49U4n2P5_"
      }
    },
    {
      "cell_type": "code",
      "source": [
        "def findDom(input):\n",
        "    return input.split('@')[1]\n"
      ],
      "metadata": {
        "id": "uzbtoRBN2VxI"
      },
      "execution_count": 7,
      "outputs": []
    },
    {
      "cell_type": "code",
      "source": [
        "findDom('user@domain.com')"
      ],
      "metadata": {
        "colab": {
          "base_uri": "https://localhost:8080/",
          "height": 35
        },
        "id": "Ym-4hL2F1xEG",
        "outputId": "00c7b120-cff7-4c95-fb63-ed1833f2fb2e"
      },
      "execution_count": 8,
      "outputs": [
        {
          "output_type": "execute_result",
          "data": {
            "text/plain": [
              "'domain.com'"
            ],
            "application/vnd.google.colaboratory.intrinsic+json": {
              "type": "string"
            }
          },
          "metadata": {},
          "execution_count": 8
        }
      ]
    },
    {
      "cell_type": "markdown",
      "source": [
        " Create a basic function that returns True if the word 'dog' is contained in the input string. Don't worry about edge cases like a punctuation being attached to the word dog, but do account for capitalization. "
      ],
      "metadata": {
        "id": "4jS74s0q2hb_"
      }
    },
    {
      "cell_type": "code",
      "source": [
        "def findDog(input):\n",
        "    return 'dog' in input.lower().split()"
      ],
      "metadata": {
        "id": "fnBvA1vj2llB"
      },
      "execution_count": 9,
      "outputs": []
    },
    {
      "cell_type": "code",
      "source": [
        "findDog(\"Is dog is there\")"
      ],
      "metadata": {
        "colab": {
          "base_uri": "https://localhost:8080/"
        },
        "id": "4mkziZfU1s2L",
        "outputId": "de51bbe9-f85f-48b1-aaf7-df42b5d99b48"
      },
      "execution_count": 10,
      "outputs": [
        {
          "output_type": "execute_result",
          "data": {
            "text/plain": [
              "True"
            ]
          },
          "metadata": {},
          "execution_count": 10
        }
      ]
    },
    {
      "cell_type": "markdown",
      "source": [
        " Create a function that counts the number of times the word \"dog\" occurs in a string. Again ignore edge cases. \n",
        " "
      ],
      "metadata": {
        "id": "bUU-1OuD27iR"
      }
    },
    {
      "cell_type": "code",
      "source": [
        "def countDog(input):\n",
        "    count=0\n",
        "    for i in input.lower().split():\n",
        "        if i=='dog':\n",
        "            count +=1\n",
        "    return count\n",
        "countDog(\"The count of dog in the sentence of finding dog count in this function\")"
      ],
      "metadata": {
        "colab": {
          "base_uri": "https://localhost:8080/"
        },
        "id": "WogLGCEW2-kg",
        "outputId": "bb5cc081-c11c-4e7a-a633-920683ad38e1"
      },
      "execution_count": 11,
      "outputs": [
        {
          "output_type": "execute_result",
          "data": {
            "text/plain": [
              "2"
            ]
          },
          "metadata": {},
          "execution_count": 11
        }
      ]
    },
    {
      "cell_type": "markdown",
      "source": [
        "**Problem**\n",
        "\n",
        "You are driving a little too fast, and a police officer stops you. Write a function to return one of 3 possible results: \"No ticket\", \"Small ticket\", or \"Big Ticket\". If your speed is 60 or less, the result is \"No Ticket\". If speed is between 61 and 80 inclusive, the result is \"Small Ticket\". If speed is 81 or more, the result is \"Big Ticket\". Unless it is your birthday (encoded as a boolean value in the parameters of the function) -- on your birthday, your speed can be 5 higher in all cases."
      ],
      "metadata": {
        "id": "RH0YdE7C3BzO"
      }
    },
    {
      "cell_type": "code",
      "source": [
        "def caught_speed(speed, is_birthday):\n",
        "    \n",
        "    if is_birthday:\n",
        "        speeding = speed - 5\n",
        "    else:\n",
        "        speeding = speed\n",
        "    \n",
        "    if speeding > 80:\n",
        "        return 'Big Ticket'\n",
        "    elif speeding > 60:\n",
        "        return 'Small Ticket'\n",
        "    else:\n",
        "        return 'No Ticket'"
      ],
      "metadata": {
        "id": "CwFdgi923GXy"
      },
      "execution_count": 12,
      "outputs": []
    },
    {
      "cell_type": "code",
      "source": [
        "caught_speed(85,False)"
      ],
      "metadata": {
        "colab": {
          "base_uri": "https://localhost:8080/",
          "height": 35
        },
        "id": "wnx46x5M3TFR",
        "outputId": "7a195c98-2c11-4507-86bd-7619f84f4b5f"
      },
      "execution_count": 14,
      "outputs": [
        {
          "output_type": "execute_result",
          "data": {
            "text/plain": [
              "'Big Ticket'"
            ],
            "application/vnd.google.colaboratory.intrinsic+json": {
              "type": "string"
            }
          },
          "metadata": {},
          "execution_count": 14
        }
      ]
    },
    {
      "cell_type": "code",
      "source": [
        "caught_speed(60,False)"
      ],
      "metadata": {
        "colab": {
          "base_uri": "https://localhost:8080/",
          "height": 35
        },
        "id": "DsBmTMa13awq",
        "outputId": "3dc90523-1524-4613-9c8c-167a3f843e1a"
      },
      "execution_count": 15,
      "outputs": [
        {
          "output_type": "execute_result",
          "data": {
            "text/plain": [
              "'No Ticket'"
            ],
            "application/vnd.google.colaboratory.intrinsic+json": {
              "type": "string"
            }
          },
          "metadata": {},
          "execution_count": 15
        }
      ]
    },
    {
      "cell_type": "code",
      "source": [
        "caught_speed(65,False)"
      ],
      "metadata": {
        "colab": {
          "base_uri": "https://localhost:8080/",
          "height": 35
        },
        "id": "CjRCz1v93ftZ",
        "outputId": "ff47ba91-acfb-45cb-f5d1-d65157ab9837"
      },
      "execution_count": 16,
      "outputs": [
        {
          "output_type": "execute_result",
          "data": {
            "text/plain": [
              "'Small Ticket'"
            ],
            "application/vnd.google.colaboratory.intrinsic+json": {
              "type": "string"
            }
          },
          "metadata": {},
          "execution_count": 16
        }
      ]
    },
    {
      "cell_type": "markdown",
      "source": [
        "Create an employee list with basic salary values(at least 5 values for 5 employees) and using a for loop retreive each employee salary and calculate total salary expenditure."
      ],
      "metadata": {
        "id": "YQj-MA353pBG"
      }
    },
    {
      "cell_type": "code",
      "source": [
        "salary_list = [20000,30000,52000,60000,25500]\n",
        "sum = 0\n",
        "for i in salary_list:\n",
        "    sum += i\n",
        "print(sum)"
      ],
      "metadata": {
        "colab": {
          "base_uri": "https://localhost:8080/"
        },
        "id": "WEcFoMY83sv7",
        "outputId": "52f80c3f-1ed0-4692-e487-2ac8a3bee360"
      },
      "execution_count": 18,
      "outputs": [
        {
          "output_type": "stream",
          "name": "stdout",
          "text": [
            "187500\n"
          ]
        }
      ]
    },
    {
      "cell_type": "markdown",
      "source": [
        "Create two dictionaries in Python:\n",
        "\n",
        "First one to contain fields as Empid, Empname, Basicpay\n",
        "\n",
        "Second dictionary to contain fields as DeptName, DeptId.\n",
        "\n",
        "Combine both dictionaries."
      ],
      "metadata": {
        "id": "TjaptnTd3zUQ"
      }
    },
    {
      "cell_type": "code",
      "source": [
        "dictionary1 = {'Empid':101,'Empname':'Abi','Basicpay':75000}"
      ],
      "metadata": {
        "id": "P-chfF6Z31Gv"
      },
      "execution_count": 20,
      "outputs": []
    },
    {
      "cell_type": "code",
      "source": [
        "dictionary2 = {'DeptName':'ECE','DeptId':19}\n",
        "dictionary1.update(dictionary2)\n",
        "dictionary1"
      ],
      "metadata": {
        "colab": {
          "base_uri": "https://localhost:8080/"
        },
        "id": "H9tiJri24Co7",
        "outputId": "e3e6950e-ab1e-4ff6-e10e-0a30c93f3267"
      },
      "execution_count": 21,
      "outputs": [
        {
          "output_type": "execute_result",
          "data": {
            "text/plain": [
              "{'Empid': 101,\n",
              " 'Empname': 'Abi',\n",
              " 'Basicpay': 75000,\n",
              " 'DeptName': 'ECE',\n",
              " 'DeptId': 19}"
            ]
          },
          "metadata": {},
          "execution_count": 21
        }
      ]
    }
  ]
}